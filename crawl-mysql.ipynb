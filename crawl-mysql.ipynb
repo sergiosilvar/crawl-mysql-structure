{
 "cells": [
  {
   "cell_type": "code",
   "execution_count": 1,
   "metadata": {},
   "outputs": [],
   "source": [
    "import re"
   ]
  },
  {
   "cell_type": "code",
   "execution_count": 2,
   "metadata": {},
   "outputs": [],
   "source": [
    "with open('./Dump20200110.sql', mode='r', encoding='utf-8') as f:\n",
    "    txt = f.read()"
   ]
  },
  {
   "cell_type": "code",
   "execution_count": 71,
   "metadata": {},
   "outputs": [
    {
     "data": {
      "text/plain": [
       "{'databases': [{'name': 'db1', 'tables': [{'name': 'tb11'}]},\n",
       "  {'name': 'db2', 'tables': [{'name': 'tb21'}]}]}"
      ]
     },
     "execution_count": 71,
     "metadata": {},
     "output_type": "execute_result"
    }
   ],
   "source": [
    "{'databases':[{'name':'db1', 'tables':[{'name':'tb11'}]}, {'name':'db2', 'tables':[{'name':'tb21'}]}]}"
   ]
  },
  {
   "cell_type": "code",
   "execution_count": 101,
   "metadata": {},
   "outputs": [
    {
     "name": "stdout",
     "output_type": "stream",
     "text": [
      " /*!40100 DEFAULT CHARACTER SET utf8 */;\n",
      "\n",
      "USE `gps`;\n",
      "\n",
      "--\n",
      "-- Table structure for table `atividade`\n",
      "--\n",
      "\n",
      "DROP TABLE IF EXISTS `atividade`;\n",
      "/*!40101 SET @saved_cs_client     = @@character_set_client */;\n",
      "/*!40101 SET character_set_client = utf8 */;\n",
      "CREATE TABLE `atividade` (\n",
      "  `PK_ATIV` int(11) NOT NULL AUTO_INCREMENT,\n",
      "  `ATIV_DT_CADASTRO` date NOT NULL,\n",
      "  `ATIV_IN_PESO` int(1) NOT NULL,\n",
      "  `ATIV_IN_ORDEM` int(2) NOT NULL,\n",
      "  `ATIV_DT_INICIO` date DEFAULT NULL,\n",
      "  `ATIV_DT_FIM` date DEFAULT NULL,\n",
      "  `ATIV_TX_NOME` varchar(100) NOT NULL,\n",
      "  `ATIV_TX_DESCRICAO` varchar(250) DEFAULT NULL,\n",
      "  `FK_ATIV_PROJ` int(11) NOT NULL,\n",
      "  `FK_ATIV_USUA` int(11) NOT NULL,\n",
      "  PRIMARY KEY (`PK_ATIV`),\n",
      "  KEY `FK_ATIV_PROJ` (`FK_ATIV_PROJ`),\n",
      "  CONSTRAINT `atividade_ibfk_2` FOREIGN KEY (`FK_ATIV_PROJ`) REFERENCES `projeto` (`PK_PROJ`) ON DELETE CASCADE ON UPDATE NO ACTION\n",
      ") ENGINE=InnoDB AUTO_INCREMENT=289 DEFAULT CHARSET=utf8;\n",
      "/*!40101 SET character_set_client = @saved_cs_client */;\n",
      "\n",
      "--\n",
      "-- Table structure for table `atividade_dias`\n",
      "--\n",
      "\n",
      "DROP TABLE IF EXISTS `atividade_dias`;\n",
      "/*!40101 SET @saved_cs_client     = @@character_set_client */;\n",
      "/*!40101 SET character_set_client = utf8 */;\n",
      "CREATE TABLE `atividade_dias` (\n",
      "  `PK_ATDI` int(11) NOT NULL AUTO_INCREMENT,\n",
      "  `ATDI_DT_INICIO` date NOT NULL,\n",
      "  `ATDI_TX_COMENTARIO` varchar(400) NOT NULL,\n",
      "  `FK_ATDI_ATIV` int(11) NOT NULL,\n",
      "  PRIMARY KEY (`PK_ATDI`),\n",
      "  KEY `FK_ATDI_ATIV` (`FK_ATDI_ATIV`),\n",
      "  CONSTRAINT `atividade_dias_ibfk_2` FOREIGN KEY (`FK_ATDI_ATIV`) REFERENCES `atividade` (`PK_ATIV`) ON DELETE CASCADE ON UPDATE CASCADE\n",
      ") ENGINE=InnoDB AUTO_INCREMENT=648 DEFAULT CHARSET=utf8;\n",
      "/*!40101 SET character_set_client = @saved_cs_client */;\n",
      "\n",
      "--\n",
      "-- Table structure for table `produto`\n",
      "--\n",
      "\n",
      "DROP TABLE IF EXISTS `produto`;\n",
      "/*!40101 SET @saved_cs_client     = @@character_set_client */;\n",
      "/*!40101 SET character_set_client = utf8 */;\n",
      "CREATE TABLE `produto` (\n",
      "  `PK_PROD` int(11) NOT NULL AUTO_INCREMENT,\n",
      "  `PROD_DT_CADASTRO` date NOT NULL,\n",
      "  `PROD_DT_INICIO` date DEFAULT NULL,\n",
      "  `PROD_DT_FIM` date DEFAULT NULL,\n",
      "  `PROD_TX_NOME` varchar(100) NOT NULL,\n",
      "  `PROD_TX_DESCRICAO` varchar(250) DEFAULT NULL,\n",
      "  `FK_PROD_USUA_RESPONSAVEL` int(11) DEFAULT NULL,\n",
      "  `FK_PROD_USER_SOLICITANTE` int(11) NOT NULL,\n",
      "  PRIMARY KEY (`PK_PROD`)\n",
      ") ENGINE=InnoDB AUTO_INCREMENT=9 DEFAULT CHARSET=utf8;\n",
      "/*!40101 SET character_set_client = @saved_cs_client */;\n",
      "\n",
      "--\n",
      "-- Table structure for table `projeto`\n",
      "--\n",
      "\n",
      "DROP TABLE IF EXISTS `projeto`;\n",
      "/*!40101 SET @saved_cs_client     = @@character_set_client */;\n",
      "/*!40101 SET character_set_client = utf8 */;\n",
      "CREATE TABLE `projeto` (\n",
      "  `PK_PROJ` int(11) NOT NULL AUTO_INCREMENT,\n",
      "  `PROJ_DT_CADASTRO` date NOT NULL,\n",
      "  `PROJ_DT_INICIO` date DEFAULT NULL,\n",
      "  `PROJ_DT_FIM` date DEFAULT NULL,\n",
      "  `PROJ_DT_ULTIMA_ATUALIZACAO` date DEFAULT NULL,\n",
      "  `PROJ_TX_NOME` varchar(100) NOT NULL,\n",
      "  `PROJ_TX_DESCRICAO` varchar(250) DEFAULT NULL,\n",
      "  `PROJ_IN_PRIORIDADE` int(1) NOT NULL,\n",
      "  `PROJ_IN_TIPO` varchar(3) NOT NULL,\n",
      "  `FK_PROJ_USER_SOLICITANTE` int(11) NOT NULL,\n",
      "  `FK_PROJ_PROD` int(11) NOT NULL,\n",
      "  `FK_PROJ_USUA_RESPONSAVEL` int(11) DEFAULT NULL,\n",
      "  PRIMARY KEY (`PK_PROJ`),\n",
      "  KEY `FK_PROJ_PROD` (`FK_PROJ_PROD`),\n",
      "  CONSTRAINT `projeto_ibfk_4` FOREIGN KEY (`FK_PROJ_PROD`) REFERENCES `produto` (`PK_PROD`) ON DELETE CASCADE ON UPDATE CASCADE\n",
      ") ENGINE=InnoDB AUTO_INCREMENT=58 DEFAULT CHARSET=utf8;\n",
      "/*!40101 SET character_set_client = @saved_cs_client */;\n",
      "\n",
      "--\n",
      "-- Table structure for table `usuario`\n",
      "--\n",
      "\n",
      "DROP TABLE IF EXISTS `usuario`;\n",
      "/*!40101 SET @saved_cs_client     = @@character_set_client */;\n",
      "/*!40101 SET character_set_client = utf8 */;\n",
      "CREATE TABLE `usuario` (\n",
      "  `PK_USUA` int(11) NOT NULL AUTO_INCREMENT,\n",
      "  `FK_USUA_USER` int(11) NOT NULL,\n",
      "  `USUA_IN_ACESSO` int(1) NOT NULL,\n",
      "  PRIMARY KEY (`PK_USUA`)\n",
      ") ENGINE=InnoDB AUTO_INCREMENT=10 DEFAULT CHARSET=utf8;\n",
      "/*!40101 SET character_set_client = @saved_cs_client */;\n",
      "/*!40103 SET TIME_ZONE=@OLD_TIME_ZONE */;\n",
      "\n",
      "/*!40101 SET SQL_MODE=@OLD_SQL_MODE */;\n",
      "/*!40014 SET FOREIGN_KEY_CHECKS=@OLD_FOREIGN_KEY_CHECKS */;\n",
      "/*!40014 SET UNIQUE_CHECKS=@OLD_UNIQUE_CHECKS */;\n",
      "/*!40101 SET CHARACTER_SET_CLIENT=@OLD_CHARACTER_SET_CLIENT */;\n",
      "/*!40101 SET CHARACTER_SET_RESULTS=@OLD_CHARACTER_SET_RESULTS */;\n",
      "/*!40101 SET COLLATION_CONNECTION=@OLD_COLLATION_CONNECTION */;\n",
      "/*!40111 SET SQL_NOTES=@OLD_SQL_NOTES */;\n",
      "\n",
      "-- Dump completed on 2020-01-10 22:18:15\n",
      "\n"
     ]
    }
   ],
   "source": [
    "print(sql_create_tables)"
   ]
  },
  {
   "cell_type": "code",
   "execution_count": 109,
   "metadata": {},
   "outputs": [
    {
     "data": {
      "text/plain": [
       "<re.Match object; span=(832, 880), match='CREATE DATABASE /*!32312 IF NOT EXISTS*/ `cdcol`'>"
      ]
     },
     "execution_count": 109,
     "metadata": {},
     "output_type": "execute_result"
    }
   ],
   "source": [
    "sql"
   ]
  },
  {
   "cell_type": "code",
   "execution_count": 115,
   "metadata": {
    "scrolled": false
   },
   "outputs": [
    {
     "name": "stdout",
     "output_type": "stream",
     "text": [
      "\n",
      "\n",
      "\n",
      "\n",
      "\n",
      "\n"
     ]
    },
    {
     "ename": "IndexError",
     "evalue": "list index out of range",
     "output_type": "error",
     "traceback": [
      "\u001b[1;31m---------------------------------------------------------------------------\u001b[0m",
      "\u001b[1;31mIndexError\u001b[0m                                Traceback (most recent call last)",
      "\u001b[1;32m<ipython-input-115-3bb095981359>\u001b[0m in \u001b[0;36m<module>\u001b[1;34m\u001b[0m\n\u001b[0;32m     29\u001b[0m             \u001b[0mtable_name\u001b[0m \u001b[1;33m=\u001b[0m \u001b[0mtables_re\u001b[0m\u001b[1;33m[\u001b[0m\u001b[0mk\u001b[0m\u001b[1;33m]\u001b[0m\u001b[1;33m.\u001b[0m\u001b[0mgroups\u001b[0m\u001b[1;33m(\u001b[0m\u001b[1;33m)\u001b[0m\u001b[1;33m[\u001b[0m\u001b[1;36m0\u001b[0m\u001b[1;33m]\u001b[0m\u001b[1;33m\u001b[0m\u001b[1;33m\u001b[0m\u001b[0m\n\u001b[0;32m     30\u001b[0m             \u001b[0mtable\u001b[0m \u001b[1;33m=\u001b[0m \u001b[1;33m{\u001b[0m\u001b[1;34m'name'\u001b[0m\u001b[1;33m:\u001b[0m\u001b[0mtable_name\u001b[0m\u001b[1;33m}\u001b[0m\u001b[1;33m\u001b[0m\u001b[1;33m\u001b[0m\u001b[0m\n\u001b[1;32m---> 31\u001b[1;33m             \u001b[0mstart_sql_table\u001b[0m \u001b[1;33m=\u001b[0m \u001b[0mschemas_re\u001b[0m\u001b[1;33m[\u001b[0m\u001b[0mk\u001b[0m\u001b[1;33m]\u001b[0m\u001b[1;33m.\u001b[0m\u001b[0mend\u001b[0m\u001b[1;33m(\u001b[0m\u001b[1;33m)\u001b[0m\u001b[1;33m\u001b[0m\u001b[1;33m\u001b[0m\u001b[0m\n\u001b[0m\u001b[0;32m     32\u001b[0m             \u001b[0ml\u001b[0m \u001b[1;33m=\u001b[0m \u001b[0mk\u001b[0m\u001b[1;33m+\u001b[0m\u001b[1;36m1\u001b[0m\u001b[1;33m\u001b[0m\u001b[1;33m\u001b[0m\u001b[0m\n\u001b[0;32m     33\u001b[0m             \u001b[1;32mif\u001b[0m \u001b[0ml\u001b[0m \u001b[1;33m!=\u001b[0m \u001b[0mlen\u001b[0m\u001b[1;33m(\u001b[0m\u001b[0mtables_re\u001b[0m\u001b[1;33m)\u001b[0m\u001b[1;33m:\u001b[0m\u001b[1;33m\u001b[0m\u001b[1;33m\u001b[0m\u001b[0m\n",
      "\u001b[1;31mIndexError\u001b[0m: list index out of range"
     ]
    }
   ],
   "source": [
    "mysql = {'databases':[]}\n",
    "schemas_re = list(re.finditer(r'CREATE DATABASE.+`(.+)`', txt, re.MULTILINE))\n",
    "#txt[schemas_re[0].end():]\n",
    "for i in range(len(schemas_re)):\n",
    "    database_name = schemas_re[i].groups()[0]\n",
    "    database = {'name':database_name, 'tables':[]}\n",
    "    start_sql_db = schemas_re[i].end()\n",
    "    j = i+1\n",
    "    if j != len(schemas_re): \n",
    "        end_sql_db = schemas_re[j].end()\n",
    "    else:\n",
    "        end_sql_db = len(txt)\n",
    "    sql_create_tables = txt[start_sql_db:end_sql_db]\n",
    "    \n",
    "    tables_re = list(re.finditer(r'CREATE TABLE.+`(.+)`', sql_create_tables, re.MULTILINE))\n",
    "    for k in range(len(tables_re)):\n",
    "        table_name = tables_re[k].groups()[0]\n",
    "        table = {'name':table_name}\n",
    "        start_sql_table = schemas_re[i].end()\n",
    "        l = k+1\n",
    "        if l != len(tables_re): \n",
    "            end_sql_table = tables_re[l].end()\n",
    "        else:\n",
    "            end_sql_table = len(txt)\n",
    "        sql_columns = sql_create_tables[start_sql_table:end_sql_table]\n",
    "\n",
    "        columns_re = list(re.finditer(r'CREATE TABLE.+`(.+)`', sql_create_tables, re.MULTILINE))\n",
    "        for k in range(len(tables_re)):\n",
    "            table_name = tables_re[k].groups()[0]\n",
    "            table = {'name':table_name}\n",
    "            start_sql_table = schemas_re[k].end()\n",
    "            l = k+1\n",
    "            if l != len(tables_re): \n",
    "                end_sql_table = tables_re[l].end()\n",
    "            else:\n",
    "                end_sql_table = len(txt)\n",
    "            sql_columns = sql_create_tables[start_sql_table:end_sql_table]\n",
    "\n",
    "            database['tables'].append(table)\n",
    "        print(sql_columns)\n",
    "        break\n",
    "\n",
    "    mysql['databases'].append(database)\n",
    "#mysql    "
   ]
  },
  {
   "cell_type": "code",
   "execution_count": 114,
   "metadata": {},
   "outputs": [],
   "source": [
    "start_sql_table:end_sql_table"
   ]
  },
  {
   "cell_type": "code",
   "execution_count": 116,
   "metadata": {},
   "outputs": [
    {
     "data": {
      "text/plain": [
       "' /*!40100 DEFAULT CHARACTER SET utf8 */;\\n\\nUSE `safs`;\\n\\n--\\n-- Table structure for table `acompanhamento`\\n--\\n\\nDROP TABLE IF EXISTS `acompanhamento`;\\n/*!40101 SET @saved_cs_client     = @@character_set_client */;\\n/*!40101 SET character_set_client = utf8 */;\\nCREATE TABLE `acompanhamento` (\\n  `acom_sq_acompanhamento` int(11) NOT NULL AUTO_INCREMENT COMMENT \\'PK acompanhamento\\',\\n  `acom_tx_nome` varchar(255) NOT NULL DEFAULT \\'0\\' COMMENT \\'Descrição do check\\',\\n  `acom_nm_posicao` tinyint(1) NOT NULL DEFAULT \\'0\\' COMMENT \\'Campo para armazenar a posição do acompanhamento.\\',\\n  `acom_cd_status` tinyint(1) NOT NULL DEFAULT \\'1\\' COMMENT \\'Status do acompanhamento\\',\\n  `tiac_sq_tipo_acompanhamento` int(11) NOT NULL DEFAULT \\'0\\' COMMENT \\'FK de tipo acompanhamento\\',\\n  PRIMARY KEY (`acom_sq_acompanhamento`),\\n  KEY `FK_acompanhamento_tipo_acompanhamento` (`tiac_sq_tipo_acompanhamento`),\\n  CONSTRAINT `FK_acompanhamento_tipo_acompanhamento` FOREIGN KEY (`tiac_sq_tipo_acompanhamento`) REFERENCES `tipo_acompanhamento` (`tiac_sq_tipo_acompanhamento`)\\n) ENGINE=InnoDB AUTO_INCREMENT=40 DEFAULT CHARSET=utf8 COMMENT=\\'Tabela responsável por armazenar o checklist de acompanhamento padrão, conforme o tipo de acompanhamento a ser usado em um simulado de emergência.\\';\\n/*!40101 SET character_set_client = @saved_cs_client */;\\n\\n--\\n-- Table structure for table `acompanhamento_resposta`\\n--\\n\\nDROP TABLE IF EXISTS `acompanhamento_resposta`;\\n/*!40101 SET @saved_cs_client     = @@character_set_client */;\\n/*!40101 SET character_set_client = utf8 */;\\nCREATE TABLE `acompanhamento_resposta` (\\n  `acre_sq_acompanhamento_resposta` int(11) NOT NULL AUTO_INCREMENT COMMENT \\'PK acompanhamento_resposta\\',\\n  `acom_sq_acompanhamento` int(11) NOT NULL DEFAULT \\'0\\' COMMENT \\'FK acompanhamento\\',\\n  `acre_cd_resposta` int(11) NOT NULL DEFAULT \\'1\\' COMMENT \\'Código da resposta: 1 = C / -1 = NC / 0 = NA\\',\\n  `siem_sq_simulado_emergencia` int(11) NOT NULL DEFAULT \\'1\\' COMMENT \\'FK Simulado de emergencia\\',\\n  PRIMARY KEY (`acre_sq_acompanhamento_resposta`),\\n  KEY `FK_acompanhamento_resposta_acompanhamento` (`acom_sq_acompanhamento`),\\n  KEY `FK_acompanhamento_resposta_simulado_emergencia` (`siem_sq_simulado_emergencia`),\\n  CONSTRAINT `FK_acompanhamento_resposta_acompanhamento` FOREIGN KEY (`acom_sq_acompanhamento`) REFERENCES `acompanhamento` (`acom_sq_acompanhamento`),\\n  CONSTRAINT `FK_acompanhamento_resposta_simulado_emergencia` FOREIGN KEY (`siem_sq_simulado_emergencia`) REFERENCES `simulado_emergencia` (`siem_sq_simulado_emergencia`)\\n) ENGINE=InnoDB AUTO_INCREMENT=3036 DEFAULT CHARSET=utf8 COMMENT=\\'Tabela responsável por armazenar as respostas dos simulados de emergências.\\';\\n/*!40101 SET character_set_client = @saved_cs_client */;\\n\\n--\\n-- Table structure for table `area`\\n--\\n\\nDROP TABLE IF EXISTS `area`;\\n/*!40101 SET @saved_cs_client     = @@character_set_client */;\\n/*!40101 SET character_set_client = utf8 */;\\nCREATE TABLE `area` (\\n  `AREA_SQ_AREA` int(11) NOT NULL AUTO_INCREMENT,\\n  `AREA_TX_AREA` varchar(255) NOT NULL,\\n  `AREA_CD_STATUS` tinyint(1) DEFAULT \\'1\\',\\n  PRIMARY KEY (`AREA_SQ_AREA`)\\n) ENGINE=InnoDB AUTO_INCREMENT=90 DEFAULT CHARSET=utf8;\\n/*!40101 SET character_set_client = @saved_cs_client */;\\n\\n--\\n-- Table structure for table `area_plano`\\n--\\n\\nDROP TABLE IF EXISTS `area_plano`;\\n/*!40101 SET @saved_cs_client     = @@character_set_client */;\\n/*!40101 SET character_set_client = utf8 */;\\nCREATE TABLE `area_plano` (\\n  `ARPL_SQ_AREA_PLANO` int(11) NOT NULL AUTO_INCREMENT,\\n  `ARPL_TX_AREA_PLANO` varchar(255) NOT NULL,\\n  `ARPL_CD_STATUS` tinyint(1) DEFAULT \\'1\\',\\n  PRIMARY KEY (`ARPL_SQ_AREA_PLANO`)\\n) ENGINE=InnoDB AUTO_INCREMENT=7 DEFAULT CHARSET=utf8;\\n/*!40101 SET character_set_client = @saved_cs_client */;\\n\\n--\\n-- Table structure for table `assunto_geral`\\n--\\n\\nDROP TABLE IF EXISTS `assunto_geral`;\\n/*!40101 SET @saved_cs_client     = @@character_set_client */;\\n/*!40101 SET character_set_client = utf8 */;\\nCREATE TABLE `assunto_geral` (\\n  `ASGE_SQ_ASSUNTO_GERAL` int(11) NOT NULL AUTO_INCREMENT COMMENT \\'ID de assunto geral.\\',\\n  `ASGE_TX_COMENTARIO` text COMMENT \\'Campo texto para armazenar comentário.\\',\\n  `ASGE_TX_ANEXO` varchar(255) DEFAULT NULL COMMENT \\'Campo texto para armazenar link para o anexo.\\',\\n  `BOLE_SQ_BOLETIM` int(11) NOT NULL,\\n  PRIMARY KEY (`ASGE_SQ_ASSUNTO_GERAL`),\\n  KEY `fk_assunto_geral_boletim_idx` (`BOLE_SQ_BOLETIM`),\\n  CONSTRAINT `fk_assunto_geral_boletim` FOREIGN KEY (`BOLE_SQ_BOLETIM`) REFERENCES `boletim` (`BOLE_SQ_BOLETIM`) ON DELETE NO ACTION ON UPDATE NO ACTION\\n) ENGINE=InnoDB AUTO_INCREMENT=1295 DEFAULT CHARSET=utf8 COMMENT=\\'Tabela responsável por armazenar dados da aba \"Assuntos Gerais\" do boletim.\\';\\n/*!40101 SET character_set_client = @saved_cs_client */;\\n\\n--\\n-- Table structure for table `boletim`\\n--\\n\\nDROP TABLE IF EXISTS `boletim`;\\n/*!40101 SET @saved_cs_client     = @@character_set_client */;\\n/*!40101 SET character_set_client = utf8 */;\\nCREATE TABLE `boletim` (\\n  `BOLE_SQ_BOLETIM` int(11) NOT NULL AUTO_INCREMENT,\\n  `BOLE_DT_CADASTRO` date DEFAULT NULL,\\n  `SOND_SQ_SONDA` int(11) NOT NULL,\\n  `USER_SQ_USER` int(11) NOT NULL,\\n  `BOLE_CD_STATUS` tinyint(1) NOT NULL DEFAULT \\'1\\' COMMENT \\'1=EDIÇÃO;2=ENVIADO PARA APROVAÇÃO;3=APROVADO;4=EM REVISÃO;5=REVISÃO SOLICITADA\\',\\n  `USER_SQ_USER_APROVADOR` int(11) DEFAULT NULL,\\n  PRIMARY KEY (`BOLE_SQ_BOLETIM`),\\n  KEY `FK_BOLE_SOND` (`SOND_SQ_SONDA`),\\n  KEY `FK_BOLE_USER` (`USER_SQ_USER`),\\n  KEY `FK_BOLE_USER_APROV` (`USER_SQ_USER_APROVADOR`),\\n  CONSTRAINT `FK_BOLE_SOND` FOREIGN KEY (`SOND_SQ_SONDA`) REFERENCES `canal_dados`.`sondas` (`idsonda`) ON DELETE CASCADE ON UPDATE CASCADE,\\n  CONSTRAINT `FK_BOLE_USER` FOREIGN KEY (`USER_SQ_USER`) REFERENCES `user_safs` (`USER_SQ_USER`) ON DELETE CASCADE ON UPDATE CASCADE,\\n  CONSTRAINT `FK_BOLE_USER_APROV` FOREIGN KEY (`USER_SQ_USER_APROVADOR`) REFERENCES `user_safs` (`USER_SQ_USER`) ON DELETE SET NULL ON UPDATE CASCADE\\n) ENGINE=InnoDB AUTO_INCREMENT=5913 DEFAULT CHARSET=utf8;\\n/*!40101 SET character_set_client = @saved_cs_client */;\\n\\n--\\n-- Table structure for table `boletim_checklist`\\n--\\n\\nDROP TABLE IF EXISTS `boletim_checklist`;\\n/*!40101 SET @saved_cs_client     = @@character_set_client */;\\n/*!40101 SET character_set_client = utf8 */;\\nCREATE TABLE `boletim_checklist` (\\n  `BOLE_SQ_BOLETIM` int(11) NOT NULL,\\n  `CHEC_SQ_CHECKLIST` int(11) NOT NULL,\\n  `BOCH_CD_CHECK` tinyint(1) NOT NULL,\\n  `BOCH_TX_COMENTARIO` text,\\n  PRIMARY KEY (`BOLE_SQ_BOLETIM`,`CHEC_SQ_CHECKLIST`),\\n  KEY `FK_BOCH_CHEC` (`CHEC_SQ_CHECKLIST`),\\n  CONSTRAINT `FK_BOCH_BOLE` FOREIGN KEY (`BOLE_SQ_BOLETIM`) REFERENCES `boletim` (`BOLE_SQ_BOLETIM`) ON DELETE CASCADE ON UPDATE CASCADE,\\n  CONSTRAINT `FK_BOCH_CHEC` FOREIGN KEY (`CHEC_SQ_CHECKLIST`) REFERENCES `checklist` (`CHEC_SQ_CHECKLIST`) ON DELETE CASCADE ON UPDATE CASCADE\\n) ENGINE=InnoDB DEFAULT CHARSET=utf8;\\n/*!40101 SET character_set_client = @saved_cs_client */;\\n\\n--\\n-- Table structure for table `boletim_fiscal`\\n--\\n\\nDROP TABLE IF EXISTS `boletim_fiscal`;\\n/*!40101 SET @saved_cs_client     = @@character_set_client */;\\n/*!40101 SET character_set_client = utf8 */;\\nCREATE TABLE `boletim_fiscal` (\\n  `BOLE_SQ_BOLETIM` int(11) NOT NULL,\\n  `USER_SQ_USER` int(11) NOT NULL,\\n  PRIMARY KEY (`BOLE_SQ_BOLETIM`,`USER_SQ_USER`),\\n  KEY `FK_BOFI_USER` (`USER_SQ_USER`),\\n  CONSTRAINT `FK_BOFI_BOLE` FOREIGN KEY (`BOLE_SQ_BOLETIM`) REFERENCES `boletim` (`BOLE_SQ_BOLETIM`) ON DELETE CASCADE ON UPDATE CASCADE,\\n  CONSTRAINT `FK_BOFI_USER` FOREIGN KEY (`USER_SQ_USER`) REFERENCES `user_safs` (`USER_SQ_USER`) ON DELETE CASCADE ON UPDATE CASCADE\\n) ENGINE=InnoDB DEFAULT CHARSET=utf8;\\n/*!40101 SET character_set_client = @saved_cs_client */;\\n\\n--\\n-- Table structure for table `boletim_log`\\n--\\n\\nDROP TABLE IF EXISTS `boletim_log`;\\n/*!40101 SET @saved_cs_client     = @@character_set_client */;\\n/*!40101 SET character_set_client = utf8 */;\\nCREATE TABLE `boletim_log` (\\n  `BOLO_SQ_BOLETIM_LOG` int(11) NOT NULL AUTO_INCREMENT,\\n  `BOLO_DT_REGISTRO` datetime DEFAULT NULL,\\n  `USER_SQ_USER` int(11) NOT NULL,\\n  `BOLO_CD_STATUS` tinyint(1) NOT NULL COMMENT \\'1=EDIÇÃO;2=ENVIADO APROVAÇÃO;3=APROVADO;4=EM REVISÃO;5=REVISÃO SOLICITADA\\',\\n  `BOLE_SQ_BOLETIM` int(11) NOT NULL,\\n  PRIMARY KEY (`BOLO_SQ_BOLETIM_LOG`),\\n  KEY `FK_BOLO_USER` (`USER_SQ_USER`),\\n  KEY `FK_BOLO_BOLE` (`BOLE_SQ_BOLETIM`),\\n  CONSTRAINT `FK_BOLO_BOLE` FOREIGN KEY (`BOLE_SQ_BOLETIM`) REFERENCES `boletim` (`BOLE_SQ_BOLETIM`) ON DELETE CASCADE ON UPDATE CASCADE,\\n  CONSTRAINT `FK_BOLO_USER` FOREIGN KEY (`USER_SQ_USER`) REFERENCES `user_safs` (`USER_SQ_USER`) ON DELETE CASCADE ON UPDATE CASCADE\\n) ENGINE=InnoDB DEFAULT CHARSET=utf8;\\n/*!40101 SET character_set_client = @saved_cs_client */;\\n\\n--\\n-- Table structure for table `checklist`\\n--\\n\\nDROP TABLE IF EXISTS `checklist`;\\n/*!40101 SET @saved_cs_client     = @@character_set_client */;\\n/*!40101 SET character_set_client = utf8 */;\\nCREATE TABLE `checklist` (\\n  `CHEC_SQ_CHECKLIST` int(11) NOT NULL AUTO_INCREMENT,\\n  `CHEC_NM_POSICAO` tinyint(1) DEFAULT NULL,\\n  `CHEC_TX_ITEM` varchar(255) NOT NULL,\\n  `CHEC_CD_STATUS` tinyint(1) DEFAULT NULL,\\n  PRIMARY KEY (`CHEC_SQ_CHECKLIST`)\\n) ENGINE=InnoDB AUTO_INCREMENT=6 DEFAULT CHARSET=utf8;\\n/*!40101 SET character_set_client = @saved_cs_client */;\\n\\n--\\n-- Table structure for table `classe_desvio_gestao`\\n--\\n\\nDROP TABLE IF EXISTS `classe_desvio_gestao`;\\n/*!40101 SET @saved_cs_client     = @@character_set_client */;\\n/*!40101 SET character_set_client = utf8 */;\\nCREATE TABLE `classe_desvio_gestao` (\\n  `CLDG_SQ_CLASSE_DESVIO` int(11) NOT NULL AUTO_INCREMENT,\\n  `CLDG_TX_CLASSE_DESVIO` varchar(255) NOT NULL,\\n  `CLDG_CD_STATUS` tinyint(1) DEFAULT \\'1\\',\\n  PRIMARY KEY (`CLDG_SQ_CLASSE_DESVIO`)\\n) ENGINE=InnoDB AUTO_INCREMENT=12 DEFAULT CHARSET=utf8;\\n/*!40101 SET character_set_client = @saved_cs_client */;\\n\\n--\\n-- Table structure for table `desvio_gestao`\\n--\\n\\nDROP TABLE IF EXISTS `desvio_gestao`;\\n/*!40101 SET @saved_cs_client     = @@character_set_client */;\\n/*!40101 SET character_set_client = utf8 */;\\nCREATE TABLE `desvio_gestao` (\\n  `DEGE_SQ_DESVIO_GESTAO` int(11) NOT NULL AUTO_INCREMENT,\\n  `AREA_SQ_AREA` int(11) NOT NULL,\\n  `DEGE_TX_CLASSE` varchar(100) DEFAULT NULL,\\n  `DEGE_TX_COMENTARIO` text,\\n  `BOLE_SQ_BOLETIM` int(11) NOT NULL,\\n  `CLDG_SQ_CLASSE_DESVIO` int(11) DEFAULT NULL,\\n  PRIMARY KEY (`DEGE_SQ_DESVIO_GESTAO`),\\n  KEY `FK_DEGE_AREA` (`AREA_SQ_AREA`),\\n  KEY `FK_DEGE_BOLE` (`BOLE_SQ_BOLETIM`),\\n  KEY `fk_DEGE_CLDG` (`CLDG_SQ_CLASSE_DESVIO`),\\n  CONSTRAINT `FK_DEGE_AREA` FOREIGN KEY (`AREA_SQ_AREA`) REFERENCES `area` (`AREA_SQ_AREA`) ON DELETE CASCADE ON UPDATE CASCADE,\\n  CONSTRAINT `FK_DEGE_BOLE` FOREIGN KEY (`BOLE_SQ_BOLETIM`) REFERENCES `boletim` (`BOLE_SQ_BOLETIM`) ON DELETE CASCADE ON UPDATE CASCADE,\\n  CONSTRAINT `fk_DEGE_CLDG` FOREIGN KEY (`CLDG_SQ_CLASSE_DESVIO`) REFERENCES `classe_desvio_gestao` (`CLDG_SQ_CLASSE_DESVIO`) ON DELETE SET NULL ON UPDATE CASCADE\\n) ENGINE=InnoDB AUTO_INCREMENT=827 DEFAULT CHARSET=utf8;\\n/*!40101 SET character_set_client = @saved_cs_client */;\\n\\n--\\n-- Table structure for table `equipamento`\\n--\\n\\nDROP TABLE IF EXISTS `equipamento`;\\n/*!40101 SET @saved_cs_client     = @@character_set_client */;\\n/*!40101 SET character_set_client = utf8 */;\\nCREATE TABLE `equipamento` (\\n  `EQUI_SQ_EQUIPAMENTO` int(11) NOT NULL AUTO_INCREMENT,\\n  `EQUI_TX_EQUIPAMENTO` varchar(255) NOT NULL,\\n  `EQUI_CD_STATUS` tinyint(1) DEFAULT \\'1\\',\\n  `SIST_SQ_SISTEMA` int(11) NOT NULL,\\n  PRIMARY KEY (`EQUI_SQ_EQUIPAMENTO`),\\n  KEY `FK_EQUI_SIST` (`SIST_SQ_SISTEMA`),\\n  CONSTRAINT `FK_EQUI_SIST` FOREIGN KEY (`SIST_SQ_SISTEMA`) REFERENCES `sistema` (`SIST_SQ_SISTEMA`) ON DELETE CASCADE ON UPDATE CASCADE\\n) ENGINE=InnoDB AUTO_INCREMENT=147 DEFAULT CHARSET=utf8;\\n/*!40101 SET character_set_client = @saved_cs_client */;\\n\\n--\\n-- Table structure for table `falha_desvio`\\n--\\n\\nDROP TABLE IF EXISTS `falha_desvio`;\\n/*!40101 SET @saved_cs_client     = @@character_set_client */;\\n/*!40101 SET character_set_client = utf8 */;\\nCREATE TABLE `falha_desvio` (\\n  `FADE_SQ_FALHA_DESVIO` int(11) NOT NULL AUTO_INCREMENT,\\n  `FADE_TX_FALHA_DESVIO` varchar(255) DEFAULT NULL,\\n  `FADE_CD_STATUS` tinyint(1) DEFAULT \\'1\\',\\n  PRIMARY KEY (`FADE_SQ_FALHA_DESVIO`)\\n) ENGINE=InnoDB AUTO_INCREMENT=10 DEFAULT CHARSET=utf8;\\n/*!40101 SET character_set_client = @saved_cs_client */;\\n\\n--\\n-- Table structure for table `falha_equipamento`\\n--\\n\\nDROP TABLE IF EXISTS `falha_equipamento`;\\n/*!40101 SET @saved_cs_client     = @@character_set_client */;\\n/*!40101 SET character_set_client = utf8 */;\\nCREATE TABLE `falha_equipamento` (\\n  `FAEQ_SQ_FALHA_EQUIPAMENTO` int(11) NOT NULL AUTO_INCREMENT,\\n  `EQUI_SQ_EQUIPAMENTO` int(11) NOT NULL,\\n  `AREA_SQ_AREA` int(11) DEFAULT NULL,\\n  `FAEQ_NM_TIPO` tinyint(1) DEFAULT NULL,\\n  `FAEQ_TX_COMENTARIO` text,\\n  `FAEQ_TX_ANEXO` varchar(255) DEFAULT NULL,\\n  `BOLE_SQ_BOLETIM` int(11) NOT NULL,\\n  PRIMARY KEY (`FAEQ_SQ_FALHA_EQUIPAMENTO`),\\n  KEY `FK_FAEQ_EQUI` (`EQUI_SQ_EQUIPAMENTO`),\\n  KEY `FK_FAEQ_AREA` (`AREA_SQ_AREA`),\\n  KEY `FK_FAEQ_BOLE` (`BOLE_SQ_BOLETIM`),\\n  CONSTRAINT `FK_FAEQ_AREA` FOREIGN KEY (`AREA_SQ_AREA`) REFERENCES `area` (`AREA_SQ_AREA`) ON DELETE CASCADE ON UPDATE CASCADE,\\n  CONSTRAINT `FK_FAEQ_BOLE` FOREIGN KEY (`BOLE_SQ_BOLETIM`) REFERENCES `boletim` (`BOLE_SQ_BOLETIM`) ON DELETE CASCADE ON UPDATE CASCADE,\\n  CONSTRAINT `FK_FAEQ_EQUI` FOREIGN KEY (`EQUI_SQ_EQUIPAMENTO`) REFERENCES `equipamento` (`EQUI_SQ_EQUIPAMENTO`) ON DELETE CASCADE ON UPDATE CASCADE\\n) ENGINE=InnoDB AUTO_INCREMENT=2956 DEFAULT CHARSET=utf8;\\n/*!40101 SET character_set_client = @saved_cs_client */;\\n\\n--\\n-- Table structure for table `gestao_mudanca`\\n--\\n\\nDROP TABLE IF EXISTS `gestao_mudanca`;\\n/*!40101 SET @saved_cs_client     = @@character_set_client */;\\n/*!40101 SET character_set_client = utf8 */;\\nCREATE TABLE `gestao_mudanca` (\\n  `GEMU_SQ_GESTAO_MUDANCA` int(11) NOT NULL AUTO_INCREMENT,\\n  `BOLE_SQ_BOLETIM` int(11) NOT NULL,\\n  `GEMU_TX_NUMERO_GM` varchar(200) DEFAULT NULL,\\n  `GEMU_TX_DESCRICAO` text,\\n  `GEMU_TX_OBSERVACAO` text,\\n  `USER_SQ_USER` int(11) DEFAULT NULL,\\n  PRIMARY KEY (`GEMU_SQ_GESTAO_MUDANCA`),\\n  KEY `FK_BOLE_GEMU` (`BOLE_SQ_BOLETIM`),\\n  KEY `FK_GEMU_USER` (`USER_SQ_USER`),\\n  CONSTRAINT `FK_BOLE_GEMU` FOREIGN KEY (`BOLE_SQ_BOLETIM`) REFERENCES `boletim` (`BOLE_SQ_BOLETIM`) ON DELETE CASCADE ON UPDATE CASCADE,\\n  CONSTRAINT `FK_GEMU_USER` FOREIGN KEY (`USER_SQ_USER`) REFERENCES `user_safs` (`USER_SQ_USER`) ON DELETE SET NULL ON UPDATE CASCADE\\n) ENGINE=InnoDB AUTO_INCREMENT=765 DEFAULT CHARSET=utf8;\\n/*!40101 SET character_set_client = @saved_cs_client */;\\n\\n--\\n-- Table structure for table `gestao_mudanca_checklist`\\n--\\n\\nDROP TABLE IF EXISTS `gestao_mudanca_checklist`;\\n/*!40101 SET @saved_cs_client     = @@character_set_client */;\\n/*!40101 SET character_set_client = utf8 */;\\nCREATE TABLE `gestao_mudanca_checklist` (\\n  `GEMC_SQ_CHECKLIST` int(11) NOT NULL AUTO_INCREMENT,\\n  `GEMC_TX_ITEM` varchar(255) NOT NULL,\\n  `GEMC_NM_POSICAO` int(2) DEFAULT NULL,\\n  `GEMC_CD_STATUS` tinyint(1) DEFAULT \\'1\\',\\n  `GMCT_SQ_TITULO` int(11) NOT NULL,\\n  PRIMARY KEY (`GEMC_SQ_CHECKLIST`),\\n  KEY `GEMC_GMCT` (`GMCT_SQ_TITULO`),\\n  CONSTRAINT `GEMC_GMCT` FOREIGN KEY (`GMCT_SQ_TITULO`) REFERENCES `gestao_mudanca_chk_titulo` (`GMCT_SQ_TITULO`) ON DELETE CASCADE ON UPDATE CASCADE\\n) ENGINE=InnoDB AUTO_INCREMENT=36 DEFAULT CHARSET=utf8;\\n/*!40101 SET character_set_client = @saved_cs_client */;\\n\\n--\\n-- Table structure for table `gestao_mudanca_chk_titulo`\\n--\\n\\nDROP TABLE IF EXISTS `gestao_mudanca_chk_titulo`;\\n/*!40101 SET @saved_cs_client     = @@character_set_client */;\\n/*!40101 SET character_set_client = utf8 */;\\nCREATE TABLE `gestao_mudanca_chk_titulo` (\\n  `GMCT_SQ_TITULO` int(11) NOT NULL AUTO_INCREMENT,\\n  `GMCT_TX_TITULO` varchar(255) NOT NULL,\\n  `GMCT_NM_POSICAO` int(2) DEFAULT NULL,\\n  `GMCT_CD_STATUS` tinyint(1) DEFAULT \\'1\\',\\n  PRIMARY KEY (`GMCT_SQ_TITULO`)\\n) ENGINE=InnoDB AUTO_INCREMENT=18 DEFAULT CHARSET=utf8;\\n/*!40101 SET character_set_client = @saved_cs_client */;\\n\\n--\\n-- Table structure for table `gestao_mudanca_resposta`\\n--\\n\\nDROP TABLE IF EXISTS `gestao_mudanca_resposta`;\\n/*!40101 SET @saved_cs_client     = @@character_set_client */;\\n/*!40101 SET character_set_client = utf8 */;\\nCREATE TABLE `gestao_mudanca_resposta` (\\n  `GEMC_SQ_CHECKLIST` int(11) NOT NULL,\\n  `GEMU_SQ_GESTAO_MUDANCA` int(11) NOT NULL,\\n  `GMRE_CD_CHECK` tinyint(1) DEFAULT NULL,\\n  PRIMARY KEY (`GEMC_SQ_CHECKLIST`,`GEMU_SQ_GESTAO_MUDANCA`),\\n  KEY `GMRE_GEMU` (`GEMU_SQ_GESTAO_MUDANCA`),\\n  CONSTRAINT `GMRE_GEMC` FOREIGN KEY (`GEMC_SQ_CHECKLIST`) REFERENCES `gestao_mudanca_checklist` (`GEMC_SQ_CHECKLIST`) ON DELETE CASCADE ON UPDATE CASCADE,\\n  CONSTRAINT `GMRE_GEMU` FOREIGN KEY (`GEMU_SQ_GESTAO_MUDANCA`) REFERENCES `gestao_mudanca` (`GEMU_SQ_GESTAO_MUDANCA`) ON DELETE CASCADE ON UPDATE CASCADE\\n) ENGINE=InnoDB DEFAULT CHARSET=utf8;\\n/*!40101 SET character_set_client = @saved_cs_client */;\\n\\n--\\n-- Table structure for table `incidente_acidente`\\n--\\n\\nDROP TABLE IF EXISTS `incidente_acidente`;\\n/*!40101 SET @saved_cs_client     = @@character_set_client */;\\n/*!40101 SET character_set_client = utf8 */;\\nCREATE TABLE `incidente_acidente` (\\n  `INAC_SQ_INCIDENTE_ACIDENTE` int(11) NOT NULL AUTO_INCREMENT,\\n  `AREA_SQ_AREA` int(11) NOT NULL,\\n  `INAC_CD_DESVIO` tinyint(1) DEFAULT NULL COMMENT \\'1=ACIDENTE;2=INCIDENTE\\',\\n  `INAC_TX_COMENTARIO` text,\\n  `BOLE_SQ_BOLETIM` int(11) NOT NULL,\\n  PRIMARY KEY (`INAC_SQ_INCIDENTE_ACIDENTE`),\\n  KEY `FK_INAC_AREA` (`AREA_SQ_AREA`),\\n  KEY `FK_INAC_BOLE` (`BOLE_SQ_BOLETIM`),\\n  CONSTRAINT `FK_INAC_AREA` FOREIGN KEY (`AREA_SQ_AREA`) REFERENCES `area` (`AREA_SQ_AREA`) ON DELETE CASCADE ON UPDATE CASCADE,\\n  CONSTRAINT `FK_INAC_BOLE` FOREIGN KEY (`BOLE_SQ_BOLETIM`) REFERENCES `boletim` (`BOLE_SQ_BOLETIM`) ON DELETE CASCADE ON UPDATE CASCADE\\n) ENGINE=InnoDB AUTO_INCREMENT=275 DEFAULT CHARSET=utf8;\\n/*!40101 SET character_set_client = @saved_cs_client */;\\n\\n--\\n-- Table structure for table `manutencao`\\n--\\n\\nDROP TABLE IF EXISTS `manutencao`;\\n/*!40101 SET @saved_cs_client     = @@character_set_client */;\\n/*!40101 SET character_set_client = utf8 */;\\nCREATE TABLE `manutencao` (\\n  `MANU_SQ_MANUTENCAO` int(11) NOT NULL AUTO_INCREMENT,\\n  `EQUI_SQ_EQUIPAMENTO` int(11) NOT NULL,\\n  `AREA_SQ_AREA` int(11) DEFAULT NULL COMMENT \\'1=PREVENTIVA;2=CORRETIVA;3=PREDITIVA\\',\\n  `MANU_NM_CLASSE` tinyint(1) DEFAULT NULL,\\n  `MANU_TX_NUMOM` varchar(100) DEFAULT NULL,\\n  `MANU_TX_COMENTARIO` text,\\n  `BOLE_SQ_BOLETIM` int(11) NOT NULL,\\n  `MANU_TX_ANEXO` varchar(255) DEFAULT NULL,\\n  PRIMARY KEY (`MANU_SQ_MANUTENCAO`),\\n  KEY `FK_MANU_EQUI` (`EQUI_SQ_EQUIPAMENTO`),\\n  KEY `FK_MANU_AREA` (`AREA_SQ_AREA`),\\n  KEY `FK_MANU_BOLE` (`BOLE_SQ_BOLETIM`),\\n  CONSTRAINT `FK_MANU_AREA` FOREIGN KEY (`AREA_SQ_AREA`) REFERENCES `area` (`AREA_SQ_AREA`) ON DELETE SET NULL ON UPDATE CASCADE,\\n  CONSTRAINT `FK_MANU_BOLE` FOREIGN KEY (`BOLE_SQ_BOLETIM`) REFERENCES `boletim` (`BOLE_SQ_BOLETIM`) ON DELETE CASCADE ON UPDATE CASCADE,\\n  CONSTRAINT `FK_MANU_EQUI` FOREIGN KEY (`EQUI_SQ_EQUIPAMENTO`) REFERENCES `equipamento` (`EQUI_SQ_EQUIPAMENTO`) ON DELETE CASCADE ON UPDATE CASCADE\\n) ENGINE=InnoDB AUTO_INCREMENT=8515 DEFAULT CHARSET=utf8;\\n/*!40101 SET character_set_client = @saved_cs_client */;\\n\\n--\\n-- Table structure for table `manutencao_falha_desvio`\\n--\\n\\nDROP TABLE IF EXISTS `manutencao_falha_desvio`;\\n/*!40101 SET @saved_cs_client     = @@character_set_client */;\\n/*!40101 SET character_set_client = utf8 */;\\nCREATE TABLE `manutencao_falha_desvio` (\\n  `MANU_SQ_MANUTENCAO` int(11) NOT NULL,\\n  `FADE_SQ_FALHA_DESVIO` int(11) NOT NULL,\\n  PRIMARY KEY (`MANU_SQ_MANUTENCAO`,`FADE_SQ_FALHA_DESVIO`),\\n  KEY `FK_MAFD_FADE` (`FADE_SQ_FALHA_DESVIO`),\\n  CONSTRAINT `FK_MAFD_FADE` FOREIGN KEY (`FADE_SQ_FALHA_DESVIO`) REFERENCES `falha_desvio` (`FADE_SQ_FALHA_DESVIO`) ON DELETE CASCADE ON UPDATE CASCADE,\\n  CONSTRAINT `FK_MAFD_MANU` FOREIGN KEY (`MANU_SQ_MANUTENCAO`) REFERENCES `manutencao` (`MANU_SQ_MANUTENCAO`) ON DELETE CASCADE ON UPDATE CASCADE\\n) ENGINE=InnoDB DEFAULT CHARSET=utf8;\\n/*!40101 SET character_set_client = @saved_cs_client */;\\n\\n--\\n-- Table structure for table `plano_manutencao`\\n--\\n\\nDROP TABLE IF EXISTS `plano_manutencao`;\\n/*!40101 SET @saved_cs_client     = @@character_set_client */;\\n/*!40101 SET character_set_client = utf8 */;\\nCREATE TABLE `plano_manutencao` (\\n  `PLMA_SQ_PLANO_MANUTENCAO` int(11) NOT NULL AUTO_INCREMENT,\\n  `BOLE_SQ_BOLETIM` int(11) NOT NULL,\\n  `PLMA_TX_NUMERO_PLANO` varchar(200) DEFAULT NULL,\\n  `PLMA_TX_COMENTARIO` text,\\n  `PLMA_TX_DESCRICAO` text,\\n  `ARPL_SQ_AREA_PLANO` int(11) DEFAULT NULL,\\n  `USER_SQ_USER` int(11) DEFAULT NULL,\\n  PRIMARY KEY (`PLMA_SQ_PLANO_MANUTENCAO`),\\n  KEY `FK_BOLE_PLMA` (`BOLE_SQ_BOLETIM`),\\n  KEY `PLMA_ARPL` (`ARPL_SQ_AREA_PLANO`),\\n  KEY `FK_PLMA_USER` (`USER_SQ_USER`),\\n  CONSTRAINT `FK_BOLE_PLMA` FOREIGN KEY (`BOLE_SQ_BOLETIM`) REFERENCES `boletim` (`BOLE_SQ_BOLETIM`) ON DELETE CASCADE ON UPDATE CASCADE,\\n  CONSTRAINT `FK_PLMA_USER` FOREIGN KEY (`USER_SQ_USER`) REFERENCES `user_safs` (`USER_SQ_USER`) ON DELETE SET NULL ON UPDATE CASCADE,\\n  CONSTRAINT `PLMA_ARPL` FOREIGN KEY (`ARPL_SQ_AREA_PLANO`) REFERENCES `area_plano` (`ARPL_SQ_AREA_PLANO`) ON DELETE SET NULL ON UPDATE CASCADE\\n) ENGINE=InnoDB AUTO_INCREMENT=760 DEFAULT CHARSET=utf8;\\n/*!40101 SET character_set_client = @saved_cs_client */;\\n\\n--\\n-- Table structure for table `plano_manutencao_checklist`\\n--\\n\\nDROP TABLE IF EXISTS `plano_manutencao_checklist`;\\n/*!40101 SET @saved_cs_client     = @@character_set_client */;\\n/*!40101 SET character_set_client = utf8 */;\\nCREATE TABLE `plano_manutencao_checklist` (\\n  `PLMC_SQ_CHECKLIST` int(11) NOT NULL AUTO_INCREMENT,\\n  `PLMC_TX_ITEM` varchar(255) NOT NULL,\\n  `PLMC_NM_POSICAO` int(2) DEFAULT NULL,\\n  `PLMC_CD_STATUS` tinyint(1) DEFAULT \\'1\\',\\n  `PLCT_SQ_TITULO` int(11) NOT NULL,\\n  PRIMARY KEY (`PLMC_SQ_CHECKLIST`),\\n  KEY `PLMC_PLCT` (`PLCT_SQ_TITULO`),\\n  CONSTRAINT `PLMC_PLCT` FOREIGN KEY (`PLCT_SQ_TITULO`) REFERENCES `plano_manutencao_chk_titulo` (`PLCT_SQ_TITULO`) ON DELETE CASCADE ON UPDATE CASCADE\\n) ENGINE=InnoDB AUTO_INCREMENT=11 DEFAULT CHARSET=utf8;\\n/*!40101 SET character_set_client = @saved_cs_client */;\\n\\n--\\n-- Table structure for table `plano_manutencao_chk_titulo`\\n--\\n\\nDROP TABLE IF EXISTS `plano_manutencao_chk_titulo`;\\n/*!40101 SET @saved_cs_client     = @@character_set_client */;\\n/*!40101 SET character_set_client = utf8 */;\\nCREATE TABLE `plano_manutencao_chk_titulo` (\\n  `PLCT_SQ_TITULO` int(11) NOT NULL AUTO_INCREMENT,\\n  `PLCT_TX_TITULO` varchar(255) NOT NULL,\\n  `PLCT_NM_POSICAO` int(2) DEFAULT NULL,\\n  `PLCT_CD_STATUS` tinyint(1) DEFAULT \\'1\\',\\n  PRIMARY KEY (`PLCT_SQ_TITULO`)\\n) ENGINE=InnoDB AUTO_INCREMENT=2 DEFAULT CHARSET=utf8;\\n/*!40101 SET character_set_client = @saved_cs_client */;\\n\\n--\\n-- Table structure for table `plano_manutencao_old`\\n--\\n\\nDROP TABLE IF EXISTS `plano_manutencao_old`;\\n/*!40101 SET @saved_cs_client     = @@character_set_client */;\\n/*!40101 SET character_set_client = utf8 */;\\nCREATE TABLE `plano_manutencao_old` (\\n  `PLMA_SQ_PLANO_MANUTENCAO` int(11) NOT NULL AUTO_INCREMENT,\\n  `EQUI_SQ_EQUIPAMENTO` int(11) NOT NULL,\\n  `AREA_SQ_AREA` int(11) DEFAULT NULL,\\n  `PLMA_TX_NUMERO_PLANO` varchar(200) DEFAULT NULL,\\n  `PLMA_TX_FREQUENCIA` varchar(100) DEFAULT NULL,\\n  `PLMA_CD_LISTA_TAREFAS` tinyint(1) DEFAULT NULL COMMENT \\'1=OK; -1=REVISAR\\',\\n  `PLMA_CD_REGISTRO_PARAMETROS` tinyint(1) DEFAULT NULL COMMENT \\'1=OK; -1=REVISAR\\',\\n  `PLMA_CD_LISTA_MATERIAIS` tinyint(1) DEFAULT NULL COMMENT \\'1=OK; -1=REVISAR\\',\\n  `PLMA_CD_AVALIACAO_FINAL` tinyint(1) DEFAULT NULL COMMENT \\'1=APROVADO; -1=REPROVADO\\',\\n  `PLMA_TX_COMENTARIO` text,\\n  `BOLE_SQ_BOLETIM` int(11) NOT NULL,\\n  PRIMARY KEY (`PLMA_SQ_PLANO_MANUTENCAO`),\\n  KEY `FK_PLMA_EQUI` (`EQUI_SQ_EQUIPAMENTO`),\\n  KEY `FK_PLMA_AREA` (`AREA_SQ_AREA`),\\n  KEY `FK_PLMA_BOLE` (`BOLE_SQ_BOLETIM`),\\n  CONSTRAINT `FK_PLMA_AREA` FOREIGN KEY (`AREA_SQ_AREA`) REFERENCES `area` (`AREA_SQ_AREA`) ON DELETE CASCADE ON UPDATE CASCADE,\\n  CONSTRAINT `FK_PLMA_BOLE` FOREIGN KEY (`BOLE_SQ_BOLETIM`) REFERENCES `boletim` (`BOLE_SQ_BOLETIM`) ON DELETE CASCADE ON UPDATE CASCADE,\\n  CONSTRAINT `FK_PLMA_EQUI` FOREIGN KEY (`EQUI_SQ_EQUIPAMENTO`) REFERENCES `equipamento` (`EQUI_SQ_EQUIPAMENTO`) ON DELETE CASCADE ON UPDATE CASCADE\\n) ENGINE=InnoDB AUTO_INCREMENT=251 DEFAULT CHARSET=utf8;\\n/*!40101 SET character_set_client = @saved_cs_client */;\\n\\n--\\n-- Table structure for table `plano_manutencao_resposta`\\n--\\n\\nDROP TABLE IF EXISTS `plano_manutencao_resposta`;\\n/*!40101 SET @saved_cs_client     = @@character_set_client */;\\n/*!40101 SET character_set_client = utf8 */;\\nCREATE TABLE `plano_manutencao_resposta` (\\n  `PLMC_SQ_CHECKLIST` int(11) NOT NULL,\\n  `PLMA_SQ_PLANO_MANUTENCAO` int(11) NOT NULL,\\n  `PMRE_CD_CHECK` tinyint(1) DEFAULT NULL,\\n  PRIMARY KEY (`PLMC_SQ_CHECKLIST`,`PLMA_SQ_PLANO_MANUTENCAO`),\\n  KEY `PMRE_PLMA` (`PLMA_SQ_PLANO_MANUTENCAO`),\\n  CONSTRAINT `PMRE_PLMA` FOREIGN KEY (`PLMA_SQ_PLANO_MANUTENCAO`) REFERENCES `plano_manutencao` (`PLMA_SQ_PLANO_MANUTENCAO`) ON DELETE CASCADE ON UPDATE CASCADE,\\n  CONSTRAINT `PMRE_PLMC` FOREIGN KEY (`PLMC_SQ_CHECKLIST`) REFERENCES `plano_manutencao_checklist` (`PLMC_SQ_CHECKLIST`) ON DELETE CASCADE ON UPDATE CASCADE\\n) ENGINE=InnoDB DEFAULT CHARSET=utf8;\\n/*!40101 SET character_set_client = @saved_cs_client */;\\n\\n--\\n-- Table structure for table `quitacao_pendencia`\\n--\\n\\nDROP TABLE IF EXISTS `quitacao_pendencia`;\\n/*!40101 SET @saved_cs_client     = @@character_set_client */;\\n/*!40101 SET character_set_client = utf8 */;\\nCREATE TABLE `quitacao_pendencia` (\\n  `QUPE_SQ_QUITACAO_PENDENCIA` int(11) NOT NULL AUTO_INCREMENT,\\n  `QUPE_TX_PENDENCIA` varchar(100) NOT NULL,\\n  `QUPE_TX_AREA` varchar(100) DEFAULT NULL,\\n  `QUPE_TX_CRITICIDADE` char(1) DEFAULT NULL,\\n  `QUPE_DT_PRAZO` date DEFAULT NULL,\\n  `QUPE_TX_COMENTARIO` text,\\n  `BOLE_SQ_BOLETIM` int(11) NOT NULL,\\n  PRIMARY KEY (`QUPE_SQ_QUITACAO_PENDENCIA`),\\n  KEY `FK_QUPE_BOLE` (`BOLE_SQ_BOLETIM`),\\n  CONSTRAINT `FK_QUPE_BOLE` FOREIGN KEY (`BOLE_SQ_BOLETIM`) REFERENCES `boletim` (`BOLE_SQ_BOLETIM`) ON DELETE CASCADE ON UPDATE CASCADE\\n) ENGINE=InnoDB AUTO_INCREMENT=450 DEFAULT CHARSET=utf8;\\n/*!40101 SET character_set_client = @saved_cs_client */;\\n\\n--\\n-- Table structure for table `ronda_diaria`\\n--\\n\\nDROP TABLE IF EXISTS `ronda_diaria`;\\n/*!40101 SET @saved_cs_client     = @@character_set_client */;\\n/*!40101 SET character_set_client = utf8 */;\\nCREATE TABLE `ronda_diaria` (\\n  `RODI_SQ_RONDA_DIARIA` int(11) NOT NULL AUTO_INCREMENT,\\n  `RODI_TX_ANEXO` varchar(255) DEFAULT NULL,\\n  `AREA_SQ_AREA` int(11) DEFAULT NULL,\\n  `RODI_TX_COMENTARIO` text,\\n  `BOLE_SQ_BOLETIM` int(11) NOT NULL,\\n  `RODI_CD_DESVIO` tinyint(1) DEFAULT NULL,\\n  PRIMARY KEY (`RODI_SQ_RONDA_DIARIA`),\\n  KEY `FK_RODI_AREA` (`AREA_SQ_AREA`),\\n  KEY `FK_RODI_BOLE` (`BOLE_SQ_BOLETIM`),\\n  CONSTRAINT `FK_RODI_AREA` FOREIGN KEY (`AREA_SQ_AREA`) REFERENCES `area` (`AREA_SQ_AREA`) ON DELETE CASCADE ON UPDATE CASCADE,\\n  CONSTRAINT `FK_RODI_BOLE` FOREIGN KEY (`BOLE_SQ_BOLETIM`) REFERENCES `boletim` (`BOLE_SQ_BOLETIM`) ON DELETE CASCADE ON UPDATE CASCADE\\n) ENGINE=InnoDB AUTO_INCREMENT=13244 DEFAULT CHARSET=utf8;\\n/*!40101 SET character_set_client = @saved_cs_client */;\\n\\n--\\n-- Table structure for table `simulado_emergencia`\\n--\\n\\nDROP TABLE IF EXISTS `simulado_emergencia`;\\n/*!40101 SET @saved_cs_client     = @@character_set_client */;\\n/*!40101 SET character_set_client = utf8 */;\\nCREATE TABLE `simulado_emergencia` (\\n  `siem_sq_simulado_emergencia` int(11) NOT NULL AUTO_INCREMENT COMMENT \\'PK Simulado Emergencia\\',\\n  `tisi_sq_tipo_sinistro` int(11) NOT NULL DEFAULT \\'0\\' COMMENT \\'FK tipo sinistro\\',\\n  `area_sq_area` int(11) NOT NULL DEFAULT \\'0\\' COMMENT \\'FK Area\\',\\n  `bole_sq_boletim` int(11) NOT NULL DEFAULT \\'0\\' COMMENT \\'FK Boletim\\',\\n  `siem_tx_comentario` text COMMENT \\'Comentário do simulado de emergência.\\',\\n  `siem_tx_anexo` varchar(255) DEFAULT \\'0\\' COMMENT \\'Nome do arquivo anexo ao simulado de emergência.\\',\\n  PRIMARY KEY (`siem_sq_simulado_emergencia`),\\n  KEY `FK_simulado_emergencia_tipo_sinistro` (`tisi_sq_tipo_sinistro`),\\n  KEY `FK_simulado_emergencia_area` (`area_sq_area`),\\n  KEY `FK_simulado_emergencia_boletim` (`bole_sq_boletim`),\\n  CONSTRAINT `FK_simulado_emergencia_area` FOREIGN KEY (`area_sq_area`) REFERENCES `area` (`AREA_SQ_AREA`),\\n  CONSTRAINT `FK_simulado_emergencia_boletim` FOREIGN KEY (`bole_sq_boletim`) REFERENCES `boletim` (`BOLE_SQ_BOLETIM`) ON DELETE CASCADE ON UPDATE CASCADE,\\n  CONSTRAINT `FK_simulado_emergencia_tipo_sinistro` FOREIGN KEY (`tisi_sq_tipo_sinistro`) REFERENCES `tipo_sinistro` (`tisi_sq_tipo_sinistro`)\\n) ENGINE=InnoDB AUTO_INCREMENT=171 DEFAULT CHARSET=utf8 COMMENT=\\'Tabela responsável por armazenar o simulado de emergência.\\';\\n/*!40101 SET character_set_client = @saved_cs_client */;\\n\\n--\\n-- Table structure for table `sistema`\\n--\\n\\nDROP TABLE IF EXISTS `sistema`;\\n/*!40101 SET @saved_cs_client     = @@character_set_client */;\\n/*!40101 SET character_set_client = utf8 */;\\nCREATE TABLE `sistema` (\\n  `SIST_SQ_SISTEMA` int(11) NOT NULL AUTO_INCREMENT,\\n  `SIST_TX_SISTEMA` varchar(255) NOT NULL,\\n  `SIST_CD_STATUS` tinyint(1) NOT NULL DEFAULT \\'1\\',\\n  PRIMARY KEY (`SIST_SQ_SISTEMA`)\\n) ENGINE=InnoDB AUTO_INCREMENT=60 DEFAULT CHARSET=utf8;\\n/*!40101 SET character_set_client = @saved_cs_client */;\\n\\n--\\n-- Table structure for table `tipo_acompanhamento`\\n--\\n\\nDROP TABLE IF EXISTS `tipo_acompanhamento`;\\n/*!40101 SET @saved_cs_client     = @@character_set_client */;\\n/*!40101 SET character_set_client = utf8 */;\\nCREATE TABLE `tipo_acompanhamento` (\\n  `tiac_sq_tipo_acompanhamento` int(11) NOT NULL AUTO_INCREMENT COMMENT \\'Chave primária\\',\\n  `tiac_tx_nome` varchar(191) NOT NULL COMMENT \\'Nome do tipo de acompanhamento\\',\\n  `tiac_cd_status` tinyint(4) NOT NULL DEFAULT \\'1\\' COMMENT \\'Status do tipo de acompanhamento\\',\\n  `tiac_nm_posicao` tinyint(1) NOT NULL DEFAULT \\'0\\' COMMENT \\'Campo para armazenar a posição do tipo acompanhamento.\\',\\n  PRIMARY KEY (`tiac_sq_tipo_acompanhamento`)\\n) ENGINE=InnoDB AUTO_INCREMENT=6 DEFAULT CHARSET=utf8 COMMENT=\\'Tabela responsável por armazenar os tipos diferentes de acompanhamento.\\';\\n/*!40101 SET character_set_client = @saved_cs_client */;\\n\\n--\\n-- Table structure for table `tipo_sinistro`\\n--\\n\\nDROP TABLE IF EXISTS `tipo_sinistro`;\\n/*!40101 SET @saved_cs_client     = @@character_set_client */;\\n/*!40101 SET character_set_client = utf8 */;\\nCREATE TABLE `tipo_sinistro` (\\n  `tisi_sq_tipo_sinistro` int(11) NOT NULL AUTO_INCREMENT COMMENT \\'Primary key de tipo_sinistro\\',\\n  `tisi_tx_nome` varchar(191) NOT NULL DEFAULT \\'0\\' COMMENT \\'Descrição do tipo de sinistro\\',\\n  `tisi_cd_status` tinyint(4) NOT NULL DEFAULT \\'1\\' COMMENT \\'Status do tipo de sinistro\\',\\n  PRIMARY KEY (`tisi_sq_tipo_sinistro`)\\n) ENGINE=InnoDB AUTO_INCREMENT=5 DEFAULT CHARSET=utf8 COMMENT=\\'Tabela responsável por armazenar os tipos possíveis de sinistros em um simulado de emergência.\\';\\n/*!40101 SET character_set_client = @saved_cs_client */;\\n\\n--\\n-- Table structure for table `user_boletim_semanal`\\n--\\n\\nDROP TABLE IF EXISTS `user_boletim_semanal`;\\n/*!40101 SET @saved_cs_client     = @@character_set_client */;\\n/*!40101 SET character_set_client = utf8 */;\\nCREATE TABLE `user_boletim_semanal` (\\n  `USBS_SQ_USER_BOLETIM_SEMANAL` int(11) NOT NULL AUTO_INCREMENT,\\n  `USBS_TX_CHAVE` varchar(10) DEFAULT NULL,\\n  `USBS_TX_NOME` varchar(100) DEFAULT NULL,\\n  PRIMARY KEY (`USBS_SQ_USER_BOLETIM_SEMANAL`)\\n) ENGINE=InnoDB AUTO_INCREMENT=55 DEFAULT CHARSET=utf8;\\n/*!40101 SET character_set_client = @saved_cs_client */;\\n\\n--\\n-- Table structure for table `user_safs`\\n--\\n\\nDROP TABLE IF EXISTS `user_safs`;\\n/*!40101 SET @saved_cs_client     = @@character_set_client */;\\n/*!40101 SET character_set_client = utf8 */;\\nCREATE TABLE `user_safs` (\\n  `USSA_CD_TIPO` tinyint(1) NOT NULL COMMENT \\'1 = Consulta 2 = Fiscal Técnico 3 = Fiscal Engenheiro 4 = Administrador\\',\\n  `USSA_CD_STATUS` tinyint(1) NOT NULL COMMENT \\'-1 = Inativo;1 = Ativo\\',\\n  `USER_SQ_USER` int(11) NOT NULL,\\n  `USSA_CD_MENSAGEM` tinyint(1) NOT NULL DEFAULT \\'1\\' COMMENT \\'Recebimento de mensagens: -1 = Não; 1 = Sim\\',\\n  PRIMARY KEY (`USER_SQ_USER`),\\n  CONSTRAINT `USSA_USUA` FOREIGN KEY (`USER_SQ_USER`) REFERENCES `canal`.`user` (`iduser`) ON DELETE CASCADE ON UPDATE CASCADE\\n) ENGINE=InnoDB DEFAULT CHARSET=utf8;\\n/*!40101 SET character_set_client = @saved_cs_client */;\\n\\n--\\n-- Current Database: `painelpocos`\\n--\\n\\nCREATE DATABASE /*!32312 IF NOT EXISTS*/ `painelpocos`'"
      ]
     },
     "execution_count": 116,
     "metadata": {},
     "output_type": "execute_result"
    }
   ],
   "source": [
    "sql_create_tables"
   ]
  }
 ],
 "metadata": {
  "kernelspec": {
   "display_name": "Python 3",
   "language": "python",
   "name": "python3"
  },
  "language_info": {
   "codemirror_mode": {
    "name": "ipython",
    "version": 3
   },
   "file_extension": ".py",
   "mimetype": "text/x-python",
   "name": "python",
   "nbconvert_exporter": "python",
   "pygments_lexer": "ipython3",
   "version": "3.7.4"
  },
  "toc": {
   "base_numbering": 1,
   "nav_menu": {},
   "number_sections": true,
   "sideBar": true,
   "skip_h1_title": false,
   "title_cell": "Table of Contents",
   "title_sidebar": "Contents",
   "toc_cell": false,
   "toc_position": {},
   "toc_section_display": true,
   "toc_window_display": false
  },
  "varInspector": {
   "cols": {
    "lenName": 16,
    "lenType": 16,
    "lenVar": 40
   },
   "kernels_config": {
    "python": {
     "delete_cmd_postfix": "",
     "delete_cmd_prefix": "del ",
     "library": "var_list.py",
     "varRefreshCmd": "print(var_dic_list())"
    },
    "r": {
     "delete_cmd_postfix": ") ",
     "delete_cmd_prefix": "rm(",
     "library": "var_list.r",
     "varRefreshCmd": "cat(var_dic_list()) "
    }
   },
   "types_to_exclude": [
    "module",
    "function",
    "builtin_function_or_method",
    "instance",
    "_Feature"
   ],
   "window_display": false
  }
 },
 "nbformat": 4,
 "nbformat_minor": 2
}
