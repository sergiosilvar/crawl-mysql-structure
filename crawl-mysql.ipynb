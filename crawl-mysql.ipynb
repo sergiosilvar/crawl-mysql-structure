{
 "cells": [
  {
   "cell_type": "code",
   "execution_count": 3,
   "metadata": {},
   "outputs": [],
   "source": [
    "import re"
   ]
  },
  {
   "cell_type": "code",
   "execution_count": 4,
   "metadata": {},
   "outputs": [],
   "source": [
    "with open('./Dump20200110.sql', mode='r', encoding='utf-8') as f:\n",
    "    txt = f.read()"
   ]
  },
  {
   "cell_type": "code",
   "execution_count": 5,
   "metadata": {},
   "outputs": [
    {
     "data": {
      "text/plain": [
       "{'databases': [{'name': 'db1', 'tables': [{'name': 'tb11'}]},\n",
       "  {'name': 'db2', 'tables': [{'name': 'tb21'}]}]}"
      ]
     },
     "execution_count": 5,
     "metadata": {},
     "output_type": "execute_result"
    }
   ],
   "source": [
    "{'databases':[{'name':'db1', 'tables':[{'name':'tb11'}]}, {'name':'db2', 'tables':[{'name':'tb21'}]}]}"
   ]
  },
  {
   "cell_type": "code",
   "execution_count": 6,
   "metadata": {},
   "outputs": [
    {
     "ename": "NameError",
     "evalue": "name 'sql_create_tables' is not defined",
     "output_type": "error",
     "traceback": [
      "\u001b[0;31m---------------------------------------------------------------------------\u001b[0m",
      "\u001b[0;31mNameError\u001b[0m                                 Traceback (most recent call last)",
      "\u001b[0;32m<ipython-input-6-0cd0a6f972aa>\u001b[0m in \u001b[0;36m<module>\u001b[0;34m\u001b[0m\n\u001b[0;32m----> 1\u001b[0;31m \u001b[0mprint\u001b[0m\u001b[0;34m(\u001b[0m\u001b[0msql_create_tables\u001b[0m\u001b[0;34m)\u001b[0m\u001b[0;34m\u001b[0m\u001b[0;34m\u001b[0m\u001b[0m\n\u001b[0m",
      "\u001b[0;31mNameError\u001b[0m: name 'sql_create_tables' is not defined"
     ]
    }
   ],
   "source": [
    "print(sql_create_tables)"
   ]
  },
  {
   "cell_type": "code",
   "execution_count": 7,
   "metadata": {},
   "outputs": [
    {
     "ename": "NameError",
     "evalue": "name 'sql' is not defined",
     "output_type": "error",
     "traceback": [
      "\u001b[0;31m---------------------------------------------------------------------------\u001b[0m",
      "\u001b[0;31mNameError\u001b[0m                                 Traceback (most recent call last)",
      "\u001b[0;32m<ipython-input-7-00f8eef34783>\u001b[0m in \u001b[0;36m<module>\u001b[0;34m\u001b[0m\n\u001b[0;32m----> 1\u001b[0;31m \u001b[0msql\u001b[0m\u001b[0;34m\u001b[0m\u001b[0;34m\u001b[0m\u001b[0m\n\u001b[0m",
      "\u001b[0;31mNameError\u001b[0m: name 'sql' is not defined"
     ]
    }
   ],
   "source": [
    "sql"
   ]
  },
  {
   "cell_type": "code",
   "execution_count": 136,
   "metadata": {
    "scrolled": false
   },
   "outputs": [],
   "source": [
    "mysql = {'databases':[]}\n",
    "schemas_re = list(re.finditer(r'CREATE DATABASE.+`(.+)`', txt, re.MULTILINE))\n",
    "#txt[schemas_re[0].end():]\n",
    "for i in range(len(schemas_re)):\n",
    "    database_name = schemas_re[i].groups()[0]\n",
    "    database = {'name':database_name, 'tables':[]}\n",
    "    start_sql_db = schemas_re[i].end()\n",
    "    j = i+1\n",
    "    if j != len(schemas_re): \n",
    "        end_sql_db = schemas_re[j].start()\n",
    "    else:\n",
    "        end_sql_db = len(txt)\n",
    "    sql_create_tables = txt[start_sql_db:end_sql_db]\n",
    "    \n",
    "    tables_re = list(re.finditer(r'CREATE TABLE.+`(.+)`', sql_create_tables, re.MULTILINE))\n",
    "    for k in range(len(tables_re)):\n",
    "        table_name = tables_re[k].groups()[0]\n",
    "        table = {'name':table_name, 'columns':[]}\n",
    "        start_sql_table = tables_re[k].end()\n",
    "        l = k+1\n",
    "        if l != len(tables_re): \n",
    "            end_sql_table = tables_re[l].start()\n",
    "        else:\n",
    "            end_sql_table = len(sql_create_tables)\n",
    "        sql_columns = sql_create_tables[start_sql_table:end_sql_table]\n",
    "        \n",
    "        # TODO: identify composed PK\n",
    "        # TODO: identify FK table and FK column.\n",
    "        pk_re = re.search(r'PRIMARY KEY \\(`(\\w+)`\\)', sql_columns)\n",
    "        if pk_re: \n",
    "            column_pk = pk_re.groups()[0]\n",
    "            \n",
    "            \n",
    "        columns_re = list(re.finditer(r'`(.*?)`\\s(.+?)\\s', sql_columns, re.MULTILINE))        \n",
    "        for m in range(len(columns_re)):\n",
    "            column_name = columns_re[m].group(1)\n",
    "            column_type = columns_re[m].group(2)\n",
    "            column = {'name':column_name, 'type':column_type}\n",
    "            if column_name == column_pk: column['primary-key']=True\n",
    "            table['columns'].append(column)\n",
    "        database['tables'].append(table)\n",
    "    mysql['databases'].append(database)\n"
   ]
  }
 ],
 "metadata": {
  "kernelspec": {
   "display_name": "Python 3",
   "language": "python",
   "name": "python3"
  },
  "language_info": {
   "codemirror_mode": {
    "name": "ipython",
    "version": 3
   },
   "file_extension": ".py",
   "mimetype": "text/x-python",
   "name": "python",
   "nbconvert_exporter": "python",
   "pygments_lexer": "ipython3",
   "version": "3.7.3"
  },
  "toc": {
   "base_numbering": 1,
   "nav_menu": {},
   "number_sections": true,
   "sideBar": true,
   "skip_h1_title": false,
   "title_cell": "Table of Contents",
   "title_sidebar": "Contents",
   "toc_cell": false,
   "toc_position": {},
   "toc_section_display": true,
   "toc_window_display": false
  },
  "varInspector": {
   "cols": {
    "lenName": 16,
    "lenType": 16,
    "lenVar": 40
   },
   "kernels_config": {
    "python": {
     "delete_cmd_postfix": "",
     "delete_cmd_prefix": "del ",
     "library": "var_list.py",
     "varRefreshCmd": "print(var_dic_list())"
    },
    "r": {
     "delete_cmd_postfix": ") ",
     "delete_cmd_prefix": "rm(",
     "library": "var_list.r",
     "varRefreshCmd": "cat(var_dic_list()) "
    }
   },
   "oldHeight": 271,
   "position": {
    "height": "40px",
    "left": "889px",
    "right": "20px",
    "top": "120px",
    "width": "317px"
   },
   "types_to_exclude": [
    "module",
    "function",
    "builtin_function_or_method",
    "instance",
    "_Feature"
   ],
   "varInspector_section_display": "none",
   "window_display": false
  }
 },
 "nbformat": 4,
 "nbformat_minor": 2
}
